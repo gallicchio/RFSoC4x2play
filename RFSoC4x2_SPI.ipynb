{
 "cells": [
  {
   "cell_type": "markdown",
   "id": "7c704545-768c-4b8b-b05b-0472b02c732b",
   "metadata": {},
   "source": [
    "## RFSoC 4x2 Clocking"
   ]
  },
  {
   "cell_type": "code",
   "execution_count": 1,
   "id": "bb9a39b6-e375-4d0d-9567-52008ca8aa11",
   "metadata": {},
   "outputs": [],
   "source": [
    "import xrfclk"
   ]
  },
  {
   "cell_type": "code",
   "execution_count": 2,
   "id": "fad69b90-4fb7-4f47-b609-b180582a966f",
   "metadata": {},
   "outputs": [],
   "source": [
    "# Load the default PYNQ configuration\n",
    "xrfclk.set_ref_clks(lmk_freq = 245.76, lmx_freq = 491.52) # both PLLs lock"
   ]
  },
  {
   "cell_type": "code",
   "execution_count": 3,
   "id": "06772250-5981-4386-bad7-741814dbbbbc",
   "metadata": {},
   "outputs": [
    {
     "data": {
      "text/plain": [
       "PosixPath('/dev/spidev0.0')"
      ]
     },
     "execution_count": 3,
     "metadata": {},
     "output_type": "execute_result"
    }
   ],
   "source": [
    "xrfclk.lmk_devices[0]['spi_device']  # note that the LMK chip is 0.0"
   ]
  },
  {
   "cell_type": "code",
   "execution_count": null,
   "id": "01d42e8c-18f7-4705-9164-7075a1c5586c",
   "metadata": {},
   "outputs": [],
   "source": []
  },
  {
   "cell_type": "markdown",
   "id": "32dc164e-74be-4a52-94e9-ca96a00cb8fe",
   "metadata": {},
   "source": [
    "## RFSoC 4x2 SPI to LMK"
   ]
  },
  {
   "cell_type": "markdown",
   "id": "c8cccfeb-76e9-4475-9936-d871f8836d6b",
   "metadata": {},
   "source": [
    "You may need to install spidev with `pip install spidev`"
   ]
  },
  {
   "cell_type": "code",
   "execution_count": 4,
   "id": "f2ef31ca-326d-4b41-ba3e-5ab57da4fa3b",
   "metadata": {},
   "outputs": [],
   "source": [
    "import spidev"
   ]
  },
  {
   "cell_type": "code",
   "execution_count": 5,
   "id": "b81354f9-098c-4ef7-9e60-80d701422046",
   "metadata": {},
   "outputs": [],
   "source": [
    "spi = spidev.SpiDev(0, 0)  # the LMK chip is 0, 0"
   ]
  },
  {
   "cell_type": "code",
   "execution_count": 6,
   "id": "0489b56f-ea56-4de0-9afe-4bf352c809e0",
   "metadata": {},
   "outputs": [],
   "source": [
    "def lmkTransfer(spi, address, data=0x00, read=True):\n",
    "    '''\n",
    "    Do LMK04828 SPI transfer, either read or write.\n",
    "    What follows is low-level implimentation details:\n",
    "    Either transfer sends 3 bytes.\n",
    "    The only difference between read and write\n",
    "    is that a read ignores the sent data and has a meaningful return.\n",
    "    See LMK04828 datasheet at https://www.ti.com/lit/ds/symlink/lmk04828.pdf\n",
    "    p25 has a diagram of the SPI timing, describing the 3 bytes,\n",
    "        where the read/write bit goes R=1 for read, 0 for write,\n",
    "        how the address gets split up, and\n",
    "        1st byte:   R   0   0  A12 A11 A10 A9  A8\n",
    "        2nd byte:  A7  A6  A5  A4  A3  A2  A1  A0\n",
    "        3rd byte:  D7  D6  D5  D4  D3  D2  D1  D0\n",
    "    '''\n",
    "    read_bit = 0x80 if read else 0x00  # high bit 1 for read, 0 for write\n",
    "    address_high = (address>>8)&(0x1f)  # high 5 bits\n",
    "    address_low = address&(0xff)  # low 8 bits\n",
    "    to_send = [read_bit|address_high, address_low, data] # 3 bytes to send\n",
    "    readback = spi.xfer(to_send) # a 3-item list, each one byte\n",
    "    # the first two returned items should be 0. The last is the data in read mode\n",
    "    #print('address:', hex(address), 'data:', hex(data), \n",
    "    #      'read' if read else 'write', 'result:', readback) \n",
    "    return readback[2]\n",
    "\n",
    "def lmkWrite(spi, address, data):\n",
    "    lmkTransfer(spi, address, data, read=False)  # readback is always 0\n",
    "\n",
    "def lmkRead(spi, address, data=0x00):\n",
    "    '''\n",
    "    On the RFSoC 4x2 board, the STATUS_LD2 pin, attached to wire LMK_LD2\n",
    "    is connected to both the \"PLL2 locked\" LED and the SPI readback\"\n",
    "    \n",
    "    See the bottom of the CLOCK II page, p16 of the schematic:\n",
    "    https://www.realdigital.org/downloads/3ae3a2552d7da46e9041196c654cd63d.pdf\n",
    "    \n",
    "    This pin is, by default, configured to output whether PLL2 is locked, \n",
    "    but the can be reconfigured to 18 different functions, \n",
    "    including \"SPI readback\".\n",
    "    See PLL2_LD_MUX on p97 of the LMK04828 datasheet at:\n",
    "    https://www.ti.com/lit/ds/symlink/lmk04828.pdf\n",
    "    \n",
    "    If this function always returns 0xff or 0x00,\n",
    "        the PLL2_LD pin is not configured for \"SPI readback\".\n",
    "    Instead, in this configuration, 0xff means PLL2 locked \n",
    "        and the PLL2 LED is on, whereas and 0x00 means it's not.\n",
    "    '''\n",
    "    return lmkTransfer(spi, address, data, read=True)\n",
    "\n",
    "def lmkSPIreadbackMode(spi):\n",
    "    '''\n",
    "    Put the PLL2_LD pin into \"SPI readback\" and \"Output (push-pull)\" mode.\n",
    "    A side effect is that the PLL2 LED on the board will be mostly off\n",
    "    except for flashes that are too brief to see when you do SPI reads.\n",
    "    '''\n",
    "    lmkWrite(spi, address=0x16E, data=0b00111011)\n",
    "\n",
    "def lmkPLL2lockedLEDmode(spi):\n",
    "    'Put the PLL2_LD pin (back) into the \"PLL2 DLD\" and \"Output (push-pull)\" mode'\n",
    "    lmkWrite(spi, address=0x16E, data=0b00010011)"
   ]
  },
  {
   "cell_type": "code",
   "execution_count": 7,
   "id": "20827df5-ba77-483c-97f2-a0174673fd62",
   "metadata": {},
   "outputs": [],
   "source": [
    "lmkSPIreadbackMode(spi)  # needed to read back from the PLL2 LED pin"
   ]
  },
  {
   "cell_type": "code",
   "execution_count": 8,
   "id": "5d609af8-2024-4dc7-95c8-3676dfc5c522",
   "metadata": {},
   "outputs": [],
   "source": [
    "# Addresses are listed with a table starting on p57 and details on p61"
   ]
  },
  {
   "cell_type": "code",
   "execution_count": 9,
   "id": "23810670-e2dd-4483-bfc5-c3d88095206e",
   "metadata": {
    "tags": []
   },
   "outputs": [
    {
     "data": {
      "text/plain": [
       "'00010000'"
      ]
     },
     "execution_count": 9,
     "metadata": {},
     "output_type": "execute_result"
    }
   ],
   "source": [
    "'{:08b}'.format(lmkRead(spi, address = 0x000))   # SPI modes. \n",
    "# We're only ever going to see 4-wire SPI mode because we need to read out through LD2"
   ]
  },
  {
   "cell_type": "code",
   "execution_count": 10,
   "id": "8c2b4c4b-1547-464c-9898-9eff4ebab920",
   "metadata": {
    "tags": []
   },
   "outputs": [
    {
     "data": {
      "text/plain": [
       "'00000000'"
      ]
     },
     "execution_count": 10,
     "metadata": {},
     "output_type": "execute_result"
    }
   ],
   "source": [
    "printClockInfo'{:08b}'.format(lmkRead(spi, address = 0x002))   # POWERDOWN if you write a 0x01 to it."
   ]
  },
  {
   "cell_type": "code",
   "execution_count": 11,
   "id": "8e44e8bf-dfda-4fc2-9de8-0912c16cfed8",
   "metadata": {},
   "outputs": [
    {
     "data": {
      "text/plain": [
       "6"
      ]
     },
     "execution_count": 11,
     "metadata": {},
     "output_type": "execute_result"
    }
   ],
   "source": [
    "lmkRead(spi, address = 0x003)   # ID_DEVICE_TYPE. Should be 6 for our PLL product device type"
   ]
  },
  {
   "cell_type": "code",
   "execution_count": 12,
   "id": "27978ec6-7891-49b7-9a00-03868dc53d1b",
   "metadata": {},
   "outputs": [
    {
     "data": {
      "text/plain": [
       "208"
      ]
     },
     "execution_count": 12,
     "metadata": {},
     "output_type": "execute_result"
    }
   ],
   "source": [
    "lmkRead(spi, address = 0x004)  # MSB of the product identifier. LMK should return 208"
   ]
  },
  {
   "cell_type": "code",
   "execution_count": 13,
   "id": "0a7f0d76-fd5d-4c0b-aaae-e659a55d6daa",
   "metadata": {},
   "outputs": [
    {
     "data": {
      "text/plain": [
       "91"
      ]
     },
     "execution_count": 13,
     "metadata": {},
     "output_type": "execute_result"
    }
   ],
   "source": [
    "lmkRead(spi, address = 0x005)  # LSB of the product identifier. LMK should return 91"
   ]
  },
  {
   "cell_type": "code",
   "execution_count": 14,
   "id": "c65cf2fd-80ca-4841-941e-35a2817b7e49",
   "metadata": {},
   "outputs": [
    {
     "data": {
      "text/plain": [
       "32"
      ]
     },
     "execution_count": 14,
     "metadata": {},
     "output_type": "execute_result"
    }
   ],
   "source": [
    "lmkRead(spi, address = 0x006)  # IC version identifier. LMK04828 should return 32"
   ]
  },
  {
   "cell_type": "code",
   "execution_count": 15,
   "id": "c583bf63-eb7e-4380-bfe4-54838544717e",
   "metadata": {},
   "outputs": [
    {
     "data": {
      "text/plain": [
       "81"
      ]
     },
     "execution_count": 15,
     "metadata": {},
     "output_type": "execute_result"
    }
   ],
   "source": [
    "lmkRead(spi, address = 0x00C)  # MSB of the vendor identifier. Should return 81"
   ]
  },
  {
   "cell_type": "code",
   "execution_count": 16,
   "id": "06944f4e-7f53-4212-8997-d164f18bfd60",
   "metadata": {},
   "outputs": [
    {
     "data": {
      "text/plain": [
       "4"
      ]
     },
     "execution_count": 16,
     "metadata": {},
     "output_type": "execute_result"
    }
   ],
   "source": [
    "lmkRead(spi, address = 0x00D)  # LSB of the vendor identifier. LMK04828 should return 4"
   ]
  },
  {
   "cell_type": "code",
   "execution_count": 17,
   "id": "1951a987-3bdd-43cb-992f-e1cb3bacbe48",
   "metadata": {},
   "outputs": [
    {
     "data": {
      "text/plain": [
       "'00000000'"
      ]
     },
     "execution_count": 17,
     "metadata": {},
     "output_type": "execute_result"
    }
   ],
   "source": [
    "'{:08b}'.format(lmkRead(spi, address = 0x138))   # VCO_MUX, OSCout_MUX, OSCout_FMT"
   ]
  },
  {
   "cell_type": "code",
   "execution_count": 18,
   "id": "1d3f343e-d817-40c1-ab70-138704346e1f",
   "metadata": {},
   "outputs": [
    {
     "data": {
      "text/plain": [
       "'00011011'"
      ]
     },
     "execution_count": 18,
     "metadata": {},
     "output_type": "execute_result"
    }
   ],
   "source": [
    "'{:08b}'.format(lmkRead(spi, address = 0x146))   #  CLKin_SEL_POL, CLKin_SEL_MODE, CLKin1_OUT_MUX, CLKin0_OUT_MUX"
   ]
  },
  {
   "cell_type": "code",
   "execution_count": 19,
   "id": "a9d07fbe-4516-442a-bf21-5050b14d976a",
   "metadata": {},
   "outputs": [
    {
     "data": {
      "text/plain": [
       "'00011010'"
      ]
     },
     "execution_count": 19,
     "metadata": {},
     "output_type": "execute_result"
    }
   ],
   "source": [
    "'{:08b}'.format(lmkRead(spi, address = 0x147))   #  CLKin enable and type controls."
   ]
  },
  {
   "cell_type": "code",
   "execution_count": null,
   "id": "411a2d0e-bcac-4a2b-93ce-f36210179327",
   "metadata": {},
   "outputs": [],
   "source": []
  },
  {
   "cell_type": "code",
   "execution_count": 20,
   "id": "8739e3ca-d46c-4f24-894f-afd66d4c122b",
   "metadata": {},
   "outputs": [
    {
     "data": {
      "text/plain": [
       "'00001011'"
      ]
     },
     "execution_count": 20,
     "metadata": {},
     "output_type": "execute_result"
    }
   ],
   "source": [
    "'{:08b}'.format(lmkRead(spi, address = 0x15F))  # PLL1_LD_MUX, PLL1_LD_TYPE  What is LED PLL1 set to otput?"
   ]
  },
  {
   "cell_type": "code",
   "execution_count": 21,
   "id": "e8ae7ced-0b7f-4c5b-b66e-14dbc13c7241",
   "metadata": {},
   "outputs": [
    {
     "data": {
      "text/plain": [
       "'00111011'"
      ]
     },
     "execution_count": 21,
     "metadata": {},
     "output_type": "execute_result"
    }
   ],
   "source": [
    "'{:08b}'.format(lmkRead(spi, address = 0x16E))  # PLL2_LD_MUX, PLL2_LD_TYPE  What is LED PLL2 set to otput?"
   ]
  },
  {
   "cell_type": "code",
   "execution_count": 22,
   "id": "07221136-c450-425e-9ebe-43f53858e28a",
   "metadata": {},
   "outputs": [
    {
     "data": {
      "text/plain": [
       "'00000110'"
      ]
     },
     "execution_count": 22,
     "metadata": {},
     "output_type": "execute_result"
    }
   ],
   "source": [
    "'{:08b}'.format(lmkRead(spi, address = 0x182)) # RB_PLL1_LD_LOST, RB_PLL1_LD, CLR_PLL1_LD_LOST \n",
    "# PLL1 lock information. Look at bit 1 for current lock status. \n",
    "# Bit 2 for sticky lock loss."
   ]
  },
  {
   "cell_type": "code",
   "execution_count": 23,
   "id": "eaf83d27-b3bf-42c9-9e7d-8db0f4bb85ae",
   "metadata": {},
   "outputs": [
    {
     "data": {
      "text/plain": [
       "'00000010'"
      ]
     },
     "execution_count": 23,
     "metadata": {},
     "output_type": "execute_result"
    }
   ],
   "source": [
    "# To use the sticky bit and reset RB_PLL1_LD_LOST, write CLR_PLL1_LD_LOST with 1 and then 0.\n",
    "lmkWrite(spi, address=0x182, data=0x01)\n",
    "lmkWrite(spi, address=0x182, data=0x00)\n",
    "# now read status again\n",
    "'{:08b}'.format(lmkRead(spi, address = 0x182))"
   ]
  },
  {
   "cell_type": "code",
   "execution_count": 24,
   "id": "2f3d9d9a-67ee-480e-84fa-6fd7e53387df",
   "metadata": {},
   "outputs": [
    {
     "data": {
      "text/plain": [
       "'00000100'"
      ]
     },
     "execution_count": 24,
     "metadata": {},
     "output_type": "execute_result"
    }
   ],
   "source": [
    "'{:08b}'.format(lmkRead(spi, address = 0x183)) # RB_PLL2_LD_LOST, RB_PLL2_LD, CLR_PLL2_LD_LOST\n",
    "# PLL2 lock information. Look at bit 1 for current lock status. Bit 2 for sticky lock loss.\n",
    "# But only if PLL2_LD_MUX is set! Shit."
   ]
  },
  {
   "cell_type": "code",
   "execution_count": 25,
   "id": "590b1256-874f-4856-bb08-623736fa74cf",
   "metadata": {},
   "outputs": [
    {
     "data": {
      "text/plain": [
       "'00000000'"
      ]
     },
     "execution_count": 25,
     "metadata": {},
     "output_type": "execute_result"
    }
   ],
   "source": [
    "# To use the sticky bit and reset RB_PLL2_LD_LOST, write CLR_PLL2_LD_LOST with 1 and then 0.\n",
    "lmkWrite(spi, address=0x183, data=0x01)\n",
    "lmkWrite(spi, address=0x183, data=0x00)\n",
    "# now read status again\n",
    "'{:08b}'.format(lmkRead(spi, address = 0x183))"
   ]
  },
  {
   "cell_type": "markdown",
   "id": "08e93218-83ed-4a2f-a58c-c2291dd31902",
   "metadata": {},
   "source": [
    "## RFSoC 4x2 LMK External 10 MHz input (from GPS disciplined oscillator)"
   ]
  },
  {
   "cell_type": "code",
   "execution_count": 26,
   "id": "9d8633cd-45b2-46c9-abc4-5e16e3f4999e",
   "metadata": {},
   "outputs": [
    {
     "data": {
      "text/plain": [
       "'10010000'"
      ]
     },
     "execution_count": 26,
     "metadata": {},
     "output_type": "execute_result"
    }
   ],
   "source": [
    "'{:08b}'.format(lmkRead(spi, address = 0x184)) # RB_DAC_VALUE(MSB), RB_CLKinX_SEL, RB_CLKinX_LOS\n",
    "# Are inputs oscillators experiencing a loss-of-signal (LOS) and which is being used (SEL)"
   ]
  },
  {
   "cell_type": "code",
   "execution_count": 27,
   "id": "6c2b3eeb-c9f2-40d4-8c83-56973502930a",
   "metadata": {},
   "outputs": [],
   "source": [
    "def printLMKclockInfo(spi):\n",
    "    clk_info = '{:08b}'.format(lmkRead(spi, address = 0x184))\n",
    "    print('CLKin0 (external) selected SEL for PLL1:', clk_info[7-3])\n",
    "    print('CLKin1 (internal) selected SEL for PLL1:', clk_info[7-4])\n",
    "    print('CLKin2 (nothing)  selected SEL for PLL1:', clk_info[7-5])\n",
    "    print('CLKin0 (external) loss-of-signal LOS:', clk_info[7-0])\n",
    "    print('CLKin1 (internal) loss-of-signal LOS:', clk_info[7-1])"
   ]
  },
  {
   "cell_type": "code",
   "execution_count": 28,
   "id": "2b175405-0b36-46b8-8585-c2ce35f8dd3a",
   "metadata": {},
   "outputs": [
    {
     "name": "stdout",
     "output_type": "stream",
     "text": [
      "CLKin0 (external) selected SEL for PLL1: 0\n",
      "CLKin1 (internal) selected SEL for PLL1: 1\n",
      "CLKin2 (nothing)  selected SEL for PLL1: 0\n",
      "CLKin0 (external) loss-of-signal LOS: 0\n",
      "CLKin1 (internal) loss-of-signal LOS: 0\n"
     ]
    }
   ],
   "source": [
    "printLMKclockInfo(spi)"
   ]
  },
  {
   "cell_type": "code",
   "execution_count": 29,
   "id": "18fc9a03-6373-4aa9-adeb-821f928bb0ce",
   "metadata": {},
   "outputs": [
    {
     "data": {
      "text/plain": [
       "'00000000'"
      ]
     },
     "execution_count": 29,
     "metadata": {},
     "output_type": "execute_result"
    }
   ],
   "source": [
    "'{:08b}'.format(lmkRead(spi, address = 0x188))  # RB_HOLDOVER in bit 4"
   ]
  },
  {
   "cell_type": "code",
   "execution_count": 30,
   "id": "7bcdccdd-6033-41fb-8bf3-ddbf0a1462c7",
   "metadata": {},
   "outputs": [
    {
     "name": "stdout",
     "output_type": "stream",
     "text": [
      "CLKin0 (external) selected SEL for PLL1: 1\n",
      "CLKin1 (internal) selected SEL for PLL1: 0\n",
      "CLKin2 (nothing)  selected SEL for PLL1: 0\n",
      "CLKin0 (external) loss-of-signal LOS: 0\n",
      "CLKin1 (internal) loss-of-signal LOS: 0\n"
     ]
    }
   ],
   "source": [
    "# select manual CLKin0 (external 10 MHz) input to PLL1\n",
    "lmkWrite(spi, address = 0x147, data = 0b00001010)\n",
    "printLMKclockInfo(spi)"
   ]
  },
  {
   "cell_type": "code",
   "execution_count": 31,
   "id": "8bc79eeb-6bb3-44aa-9c46-925e828ba03d",
   "metadata": {},
   "outputs": [
    {
     "name": "stdout",
     "output_type": "stream",
     "text": [
      "CLKin0 (external) selected SEL for PLL1: 0\n",
      "CLKin1 (internal) selected SEL for PLL1: 1\n",
      "CLKin2 (nothing)  selected SEL for PLL1: 0\n",
      "CLKin0 (external) loss-of-signal LOS: 0\n",
      "CLKin1 (internal) loss-of-signal LOS: 0\n"
     ]
    }
   ],
   "source": [
    "# select manual CLKin1 (internal 10 MHz) input to PLL1\n",
    "lmkWrite(spi, address = 0x147, data = 0b00011010)\n",
    "printLMKclockInfo(spi)"
   ]
  },
  {
   "cell_type": "code",
   "execution_count": 32,
   "id": "2dcd80fc-4039-4e72-9f10-306226dc543c",
   "metadata": {},
   "outputs": [
    {
     "name": "stdout",
     "output_type": "stream",
     "text": [
      "CLKin0 (external) selected SEL for PLL1: 0\n",
      "CLKin1 (internal) selected SEL for PLL1: 1\n",
      "CLKin2 (nothing)  selected SEL for PLL1: 0\n",
      "CLKin0 (external) loss-of-signal LOS: 0\n",
      "CLKin1 (internal) loss-of-signal LOS: 0\n"
     ]
    }
   ],
   "source": [
    "# allow both  CLKin0 (external 10 MHz) and CLKin1 (internal 10 MHz), \n",
    "# but not CLKin2 to be used in auto-switching of CLKin_SEL_MODE.\n",
    "# note that this is how the PYNQ default file has it already, \n",
    "# so this first write is probably redundant\n",
    "lmkWrite(spi, address = 0x146, data = 0b0011011)\n",
    "# select auto between CLKin0 (external 10 MHz) and CLKin1 (internal 10 MHz) input to PLL1\n",
    "lmkWrite(spi, address = 0x147, data = 0b01001010)\n",
    "# The problem with auto mode is \n",
    "# 1. It might not start up on the external 10 MHz if it's present.\n",
    "# 2. If external 10 MHz is ever lost, it'll just switch to internal and not go back\n",
    "printLMKclockInfo(spi)"
   ]
  },
  {
   "cell_type": "code",
   "execution_count": 33,
   "id": "956d5c81-dcbc-49cb-81da-39a8a8c389e0",
   "metadata": {},
   "outputs": [
    {
     "name": "stdout",
     "output_type": "stream",
     "text": [
      "CLKin0 (external) selected SEL for PLL1: 0\n",
      "CLKin1 (internal) selected SEL for PLL1: 1\n",
      "CLKin2 (nothing)  selected SEL for PLL1: 0\n",
      "CLKin0 (external) loss-of-signal LOS: 0\n",
      "CLKin1 (internal) loss-of-signal LOS: 0\n"
     ]
    }
   ],
   "source": [
    "printLMKclockInfo(spi)"
   ]
  },
  {
   "cell_type": "code",
   "execution_count": null,
   "id": "3132cab9-9ea0-4bf5-9790-a65bd512493a",
   "metadata": {},
   "outputs": [],
   "source": []
  },
  {
   "cell_type": "code",
   "execution_count": null,
   "id": "54248d29-b00d-4861-aae7-b5724a6496d2",
   "metadata": {},
   "outputs": [],
   "source": []
  },
  {
   "cell_type": "code",
   "execution_count": 34,
   "id": "f0283d90-d9db-42d1-bc06-7905481ad111",
   "metadata": {},
   "outputs": [],
   "source": [
    "lmkPLL2lockedLEDmode(spi)"
   ]
  },
  {
   "cell_type": "code",
   "execution_count": null,
   "id": "ea33ef28-8750-45c2-bba5-ffbccc0a4c4a",
   "metadata": {},
   "outputs": [],
   "source": []
  }
 ],
 "metadata": {
  "kernelspec": {
   "display_name": "Python 3 (ipykernel)",
   "language": "python",
   "name": "python3"
  },
  "language_info": {
   "codemirror_mode": {
    "name": "ipython",
    "version": 3
   },
   "file_extension": ".py",
   "mimetype": "text/x-python",
   "name": "python",
   "nbconvert_exporter": "python",
   "pygments_lexer": "ipython3",
   "version": "3.10.4"
  }
 },
 "nbformat": 4,
 "nbformat_minor": 5
}
